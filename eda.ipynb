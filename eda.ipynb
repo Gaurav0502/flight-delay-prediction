{
 "cells": [
  {
   "cell_type": "markdown",
   "id": "ea471cb0-7430-46a9-9222-806314dfec8f",
   "metadata": {},
   "source": [
    "# Importing the required modules"
   ]
  },
  {
   "cell_type": "code",
   "execution_count": 1,
   "id": "110c3537-0752-4c5c-a17a-7869a0f5779f",
   "metadata": {},
   "outputs": [],
   "source": [
    "# modules used for data handling and\n",
    "# manipulation\n",
    "import numpy as np\n",
    "import pandas as pd\n",
    "\n",
    "# modules used for data visualization\n",
    "import matplotlib.pyplot as plt\n",
    "import seaborn as sns"
   ]
  },
  {
   "cell_type": "markdown",
   "id": "ec2d8a37-e983-425b-81c3-a4fe3365e4f2",
   "metadata": {},
   "source": [
    "# Reading the data"
   ]
  },
  {
   "cell_type": "code",
   "execution_count": 2,
   "id": "9a2f468a-d585-43d0-aab1-cd8b3331a10e",
   "metadata": {},
   "outputs": [],
   "source": [
    "flight_df = pd.read_csv(\"DelayData.csv\")"
   ]
  },
  {
   "cell_type": "code",
   "execution_count": 3,
   "id": "8b7bcf1f-eb29-47d1-b527-78ba1e16d9e6",
   "metadata": {},
   "outputs": [
    {
     "name": "stdout",
     "output_type": "stream",
     "text": [
      "<class 'pandas.core.frame.DataFrame'>\n",
      "RangeIndex: 1201664 entries, 0 to 1201663\n",
      "Data columns (total 61 columns):\n",
      " #   Column                   Non-Null Count    Dtype  \n",
      "---  ------                   --------------    -----  \n",
      " 0   depdelay                 1201664 non-null  int64  \n",
      " 1   arrdelay                 1198458 non-null  float64\n",
      " 2   scheduleddepartdatetime  1201664 non-null  object \n",
      " 3   origin                   1201664 non-null  object \n",
      " 4   dest                     1201664 non-null  object \n",
      " 5   uniquecarrier            1201664 non-null  object \n",
      " 6   marketshareorigin        1201664 non-null  float64\n",
      " 7   marketsharedest          1201664 non-null  float64\n",
      " 8   hhiorigin                1201664 non-null  float64\n",
      " 9   hhidest                  1201664 non-null  float64\n",
      " 10  nonhubairportorigin      1201664 non-null  int64  \n",
      " 11  smallhubairportorigin    1201664 non-null  int64  \n",
      " 12  mediumhubairportorigin   1201664 non-null  int64  \n",
      " 13  largehubairportorigin    1201664 non-null  int64  \n",
      " 14  nonhubairportdest        1201664 non-null  int64  \n",
      " 15  smallhubairportdest      1201664 non-null  int64  \n",
      " 16  mediumhubairportdest     1201664 non-null  int64  \n",
      " 17  largehubairportdest      1201664 non-null  int64  \n",
      " 18  nonhubairlineorigin      1201664 non-null  int64  \n",
      " 19  smallhubairlineorigin    1201664 non-null  int64  \n",
      " 20  mediumhubairlineorigin   1201664 non-null  int64  \n",
      " 21  largehubairlineorigin    1201664 non-null  int64  \n",
      " 22  nonhubairlinedest        1201664 non-null  int64  \n",
      " 23  smallhubairlinedest      1201664 non-null  int64  \n",
      " 24  mediumhubairlinedest     1201664 non-null  int64  \n",
      " 25  largehubairlinedest      1201664 non-null  int64  \n",
      " 26  year                     1201664 non-null  int64  \n",
      " 27  month                    1201664 non-null  int64  \n",
      " 28  dayofmonth               1201664 non-null  int64  \n",
      " 29  dayofweek                1201664 non-null  int64  \n",
      " 30  scheduledhour            1201664 non-null  int64  \n",
      " 31  originairportid          1201664 non-null  int64  \n",
      " 32  destairportid            1201664 non-null  int64  \n",
      " 33  tailnum                  1201664 non-null  object \n",
      " 34  capacity                 1201664 non-null  int64  \n",
      " 35  loadfactor               1201664 non-null  float64\n",
      " 36  numflights               1201664 non-null  float64\n",
      " 37  origincityname           1201664 non-null  object \n",
      " 38  originstate              1201664 non-null  object \n",
      " 39  distance                 1201664 non-null  int64  \n",
      " 40  monopolyroute            1201664 non-null  int64  \n",
      " 41  temperature              1201204 non-null  float64\n",
      " 42  temp_ninfty_n10          1201664 non-null  int64  \n",
      " 43  temp_n10_0               1201664 non-null  int64  \n",
      " 44  temp_0_10                1201664 non-null  int64  \n",
      " 45  temp_10_20               1201664 non-null  int64  \n",
      " 46  temp_20_30               1201664 non-null  int64  \n",
      " 47  temp_30_40               1201664 non-null  int64  \n",
      " 48  temp_40_infty            1201664 non-null  int64  \n",
      " 49  windspeed                1201204 non-null  float64\n",
      " 50  windspeedsquare          1201204 non-null  float64\n",
      " 51  windgustdummy            1201664 non-null  int64  \n",
      " 52  windgustspeed            1201204 non-null  float64\n",
      " 53  raindummy                1201664 non-null  int64  \n",
      " 54  raintracedummy           1201664 non-null  int64  \n",
      " 55  snowdummy                1201664 non-null  int64  \n",
      " 56  snowtracedummy           1201664 non-null  int64  \n",
      " 57  originmetropop           1201664 non-null  int64  \n",
      " 58  originmetrogdppercapita  1201664 non-null  float64\n",
      " 59  destmetropop             1201664 non-null  int64  \n",
      " 60  destmetrogdppercapita    1201664 non-null  float64\n",
      "dtypes: float64(13), int64(41), object(7)\n",
      "memory usage: 559.2+ MB\n"
     ]
    }
   ],
   "source": [
    "flight_df.info()"
   ]
  },
  {
   "cell_type": "markdown",
   "id": "6b71d9a8-ccc7-404b-8b0b-0af645de498d",
   "metadata": {},
   "source": [
    "# Converting dummies to ordinal values"
   ]
  },
  {
   "cell_type": "markdown",
   "id": "eb608b11-bc86-4fe8-90bb-8f0a97bed80d",
   "metadata": {},
   "source": [
    "Based on the column names, a few of the columns are already one-hot encoded. These include the following:\n",
    "1. Temperature ranges: these columns are different temperature ranges and have a value of 1 when the `temperature` falls in the range. Otherwise, they have a value of 0. (`temp_ninfty_n10`, `temp_n10_0`, `temp_0_10`, `temp_10_20`, `temp_20_30`, `temp_30_40`, `temp_40_infty`)\n",
    "2. Airport Connectivity Variables: these columns denote whether the origin and destination airports are hubs for some airline. It also categorises such hubs as small, medium, and large. (`nonhubairportorigin`, `smallhubairportorigin`, `mediumhubairportorigin`, `largehubairportorigin`, `nonhubairportdest`, `smallhubairportdest`, `mediumhubairportdest`, `largehubairportdest`)\n",
    "3. Airline Connectivity Variables: these columns denote whether the origin and destination airports are hubs for the `uniquecarrier`. It also categorises such hubs as small, medium, and large. (`nonhubairlineorigin`, `smallhubairlineorigin`, `mediumhubairlineorigin`, `largehubairlineorigin`, `nonhubairlinedest`, `smallhubairlinedest`, `mediumhubairlinedest`, `largehubairlinedest`)\n",
    "\n",
    "\n",
    "However, the variables in each of the above categories represent information that is ordered; hence, each of those different columns can be collectively represented as a single ordinal feature. Therefore, the following changes will be made for the respective categories:\n",
    "\n",
    "1. For temperature range, a new column `temp_range` will be created, having seven categories: ninfty_n10, 10_0, 0_10, 10_20, 20_30, 40_infty.\n",
    "2. For airport connectivity variables, two new columns will be created `hubairportorigin` and `hubairportdest`. Each of these columns will contain four categories: nonhub, smallhub, mediumhub, and largehub.\n",
    "3. For airline connectivity variables, two new columns will be created `hubairlineorigin` and `hubairlinedest`. Each of these columns will contain four categories: nonhub, smallhub, mediumhub, and largehub.\n",
    "\n",
    "All the previous columns will be dropped."
   ]
  },
  {
   "cell_type": "code",
   "execution_count": 4,
   "id": "8d3ebbc3-6e11-46dd-9956-e5e0fcafd4dd",
   "metadata": {},
   "outputs": [],
   "source": [
    "# extracting all dummy features from the respective categories.\n",
    "cols = list(flight_df.columns)\n",
    "temperature_range = cols[42:49]\n",
    "airport_connectivity_origin = cols[10:14]\n",
    "airport_connectivity_dest = cols[14:18]\n",
    "airline_connectivity_origin = cols[18:22]\n",
    "airline_connectivity_dest = cols[22:26]"
   ]
  },
  {
   "cell_type": "code",
   "execution_count": 5,
   "id": "fc0c0efd-e53d-4af9-b284-2b269267747d",
   "metadata": {},
   "outputs": [],
   "source": [
    "# converts dummy columns into a single categorical feature.\n",
    "def onehot2ordinal(new_colname: str, dummies: list, str2replace: str, sep = None):\n",
    "\n",
    "    flight_df[new_colname] = pd.from_dummies(flight_df[dummies], \n",
    "                           default_category = \"unknown\",\n",
    "                           sep = sep)\n",
    "    if not sep:\n",
    "       flight_df[new_colname] = flight_df[new_colname].astype(str).apply(lambda x: x.replace(str2replace, \n",
    "                                                                                             ''))\n",
    "\n",
    "    flight_df.drop(dummies, axis = 1, inplace = True)"
   ]
  },
  {
   "cell_type": "code",
   "execution_count": 6,
   "id": "56f67793-eda7-4267-bed7-a5d225f5e793",
   "metadata": {},
   "outputs": [],
   "source": [
    "# applies the function to all the respective kinds of dummy features.\n",
    "arguments = [[\"temp_range\", temperature_range, None, \"_\"],\n",
    "             [\"hubairportorigin\", airport_connectivity_origin, \"airportorigin\", None],\n",
    "             [\"hubairportdest\", airport_connectivity_dest, \"airportdest\", None],\n",
    "             [\"hubairlineorigin\", airline_connectivity_origin, \"airlineorigin\", None],\n",
    "             [\"hubairlinedest\", airline_connectivity_dest, \"airlinedest\", None]]\n",
    "\n",
    "for new_colname, dummies, str2replace, sep in arguments:\n",
    "    \n",
    "    onehot2ordinal(new_colname = new_colname, dummies = dummies,\n",
    "                   str2replace = str2replace, sep = sep)"
   ]
  }
 ],
 "metadata": {
  "kernelspec": {
   "display_name": "Python 3 (ipykernel)",
   "language": "python",
   "name": "python3"
  },
  "language_info": {
   "codemirror_mode": {
    "name": "ipython",
    "version": 3
   },
   "file_extension": ".py",
   "mimetype": "text/x-python",
   "name": "python",
   "nbconvert_exporter": "python",
   "pygments_lexer": "ipython3",
   "version": "3.12.6"
  }
 },
 "nbformat": 4,
 "nbformat_minor": 5
}
